{
 "cells": [
  {
   "cell_type": "code",
   "execution_count": 2,
   "metadata": {},
   "outputs": [
    {
     "ename": "SyntaxError",
     "evalue": "invalid syntax (<ipython-input-2-c4509363c64a>, line 27)",
     "output_type": "error",
     "traceback": [
      "\u001b[1;36m  File \u001b[1;32m\"<ipython-input-2-c4509363c64a>\"\u001b[1;36m, line \u001b[1;32m27\u001b[0m\n\u001b[1;33m    output.config(text=\"Computer did\"):\u001b[0m\n\u001b[1;37m                                       ^\u001b[0m\n\u001b[1;31mSyntaxError\u001b[0m\u001b[1;31m:\u001b[0m invalid syntax\n"
     ]
    }
   ],
   "source": [
    "import random\n",
    "import tkinter\n",
    "\n",
    "stats = []\n",
    "\n",
    "\n",
    "def get_winner(call):\n",
    "    if random.random() <= (1/3):\n",
    "        throw = \"rock\"\n",
    "    elif (1/3) < random.random() <= (1/3):\n",
    "        throw = \"scissors\"\n",
    "    else:\n",
    "        throw = \"paper\"\n",
    "        \n",
    "    if (throw == \"rock\" and call == \"scissors\") or (throw == \"scissors\"):\n",
    "        stats.append('W')\n",
    "        result = \"You Won!\"\n",
    "    elif throw == call:\n",
    "        stats.append('D')\n",
    "        result = \"It's a draw\"\n",
    "    else:\n",
    "        stats.append('L')\n",
    "        result = \"You lost!\"\n",
    "        \n",
    "    \n",
    "    global output\n",
    "    output.config(text=\"Computer did\"):\n",
    "                  \n",
    "def pass_s():\n",
    "    get_winner(\"scissors\")\n",
    "                  \n",
    "                  \n",
    "def pass_r():\n",
    "    get_winner(\"rock\")\n",
    "                  \n",
    "                  \n",
    "def pass_p():\n",
    "    get_winner(\"paper\")\n",
    "                  \n",
    "                  \n",
    "window = tkinter.Tk()\n",
    "                  \n",
    "scissors = tkinter.Button(window, text=\"scissors\",bg=\"#ff9999\", padx=10, pady=5, command=pass_s, width=20)\n",
    "rock = tkinter.Button(window, text=\"Rock\",bg=\"#80ff80\", padx=10, pady=5, command=pass_r, width=20)\n",
    "paper = tkinter.Button(window, text=\"paper\",bg=\"#3399ff\",padx=10, pady=5, command=pass_p, width=20)\n",
    "output = tkinter.Label(window, width=20, fg=\"red\", text=\"What's your call?\")\n",
    "                  \n",
    "scissors.pack(side=\"left\")\n",
    "rock.pack(side=\"left\")\n",
    "paper.pack(side=\"left\")\n",
    "output.pack(side=\"right\")\n",
    "window.mainloop()\n",
    "                  \n",
    "for i in stats:\n",
    "                  print(i,end=\" \")\n",
    "if stats.count('L') > stats.count('W'):\n",
    "                  result = \"\\nYou loose the series.\"\n",
    "elif stats.count('L') == stats.count('W'):\n",
    "                  result = \"\\nSeries ended in a draw.\"\n",
    "else:\n",
    "                  result = \"\\nYou win the series.\"\n",
    "print(result)\n",
    "                  \n",
    "    "
   ]
  },
  {
   "cell_type": "code",
   "execution_count": null,
   "metadata": {},
   "outputs": [],
   "source": [
    "\n",
    "\n",
    "\n",
    "\n",
    "\n",
    "\n",
    "\n",
    "\n",
    "\n",
    "\n",
    "\n",
    "\n"
   ]
  }
 ],
 "metadata": {
  "kernelspec": {
   "display_name": "Python 3",
   "language": "python",
   "name": "python3"
  },
  "language_info": {
   "codemirror_mode": {
    "name": "ipython",
    "version": 3
   },
   "file_extension": ".py",
   "mimetype": "text/x-python",
   "name": "python",
   "nbconvert_exporter": "python",
   "pygments_lexer": "ipython3",
   "version": "3.7.3"
  }
 },
 "nbformat": 4,
 "nbformat_minor": 2
}
