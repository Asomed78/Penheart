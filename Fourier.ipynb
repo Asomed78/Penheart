{
 "cells": [
  {
   "cell_type": "code",
   "execution_count": 1,
   "metadata": {},
   "outputs": [
    {
     "ename": "SyntaxError",
     "evalue": "invalid syntax (<ipython-input-1-014d124909b5>, line 1)",
     "output_type": "error",
     "traceback": [
      "\u001b[1;36m  File \u001b[1;32m\"<ipython-input-1-014d124909b5>\"\u001b[1;36m, line \u001b[1;32m1\u001b[0m\n\u001b[1;33m    s[n_, x_] :=Pi/2-4/Pi Sum[1/ (2k+ 1)^2 Cos[(2k+1)x],{k,0,n}]\u001b[0m\n\u001b[1;37m               ^\u001b[0m\n\u001b[1;31mSyntaxError\u001b[0m\u001b[1;31m:\u001b[0m invalid syntax\n"
     ]
    }
   ],
   "source": [
    "s[n_, x_] :=Pi/2-4/Pi Sum[1/ (2k+ 1)^2 Cos[(2k+1)x],{k,0,n}]\n",
    "partialsums=Table[s[n,x],{n,1,7}];\n",
    "f [x_] = x-2PiFloor[(x+Pi)/(2Pi)]\n",
    "g [x_] = Abs[f[x]]\n",
    "Plot[g[x],{x,-3Pi,3Pi}]\n",
    "Plot[Evaluate[{g [x],partialsums}],{x,-2Pi,2Pi}]\n"
   ]
  },
  {
   "cell_type": "code",
   "execution_count": 2,
   "metadata": {},
   "outputs": [
    {
     "ename": "SyntaxError",
     "evalue": "invalid syntax (<ipython-input-2-e122a1de2d4f>, line 1)",
     "output_type": "error",
     "traceback": [
      "\u001b[1;36m  File \u001b[1;32m\"<ipython-input-2-e122a1de2d4f>\"\u001b[1;36m, line \u001b[1;32m1\u001b[0m\n\u001b[1;33m    s[n_, x_] :=Pi/2-4/Pi Sum[1/ (2k+ 1)^2 Cos[(2k+1)x],{k,0,n}]\u001b[0m\n\u001b[1;37m               ^\u001b[0m\n\u001b[1;31mSyntaxError\u001b[0m\u001b[1;31m:\u001b[0m invalid syntax\n"
     ]
    }
   ],
   "source": [
    "s[n_, x_] :=Pi/2-4/Pi Sum[1/ (2k+ 1)^2 Cos[(2k+1)x],{k,0,n}]\n",
    "    "
   ]
  },
  {
   "cell_type": "code",
   "execution_count": 3,
   "metadata": {},
   "outputs": [
    {
     "ename": "SyntaxError",
     "evalue": "invalid syntax (<ipython-input-3-e12e91a34dff>, line 2)",
     "output_type": "error",
     "traceback": [
      "\u001b[1;36m  File \u001b[1;32m\"<ipython-input-3-e12e91a34dff>\"\u001b[1;36m, line \u001b[1;32m2\u001b[0m\n\u001b[1;33m    f [x_] = x-2PiFloor[(x+Pi)/(2Pi)]\u001b[0m\n\u001b[1;37m                      ^\u001b[0m\n\u001b[1;31mSyntaxError\u001b[0m\u001b[1;31m:\u001b[0m invalid syntax\n"
     ]
    }
   ],
   "source": [
    "partialsums=Table[s[n,x],{n,1,7}];\n",
    "f [x_] = x-2PiFloor[(x+Pi)/(2Pi)]\n",
    "g [x_] = Abs[f[x]]\n",
    "Plot[g[x],{x,-3Pi,3Pi}]\n",
    "Plot[Evaluate[{g [x],partialsums}],{x,-2Pi,2Pi}]\n"
   ]
  },
  {
   "cell_type": "code",
   "execution_count": null,
   "metadata": {},
   "outputs": [],
   "source": []
  }
 ],
 "metadata": {
  "kernelspec": {
   "display_name": "Python 3",
   "language": "python",
   "name": "python3"
  },
  "language_info": {
   "codemirror_mode": {
    "name": "ipython",
    "version": 3
   },
   "file_extension": ".py",
   "mimetype": "text/x-python",
   "name": "python",
   "nbconvert_exporter": "python",
   "pygments_lexer": "ipython3",
   "version": "3.7.3"
  }
 },
 "nbformat": 4,
 "nbformat_minor": 2
}
